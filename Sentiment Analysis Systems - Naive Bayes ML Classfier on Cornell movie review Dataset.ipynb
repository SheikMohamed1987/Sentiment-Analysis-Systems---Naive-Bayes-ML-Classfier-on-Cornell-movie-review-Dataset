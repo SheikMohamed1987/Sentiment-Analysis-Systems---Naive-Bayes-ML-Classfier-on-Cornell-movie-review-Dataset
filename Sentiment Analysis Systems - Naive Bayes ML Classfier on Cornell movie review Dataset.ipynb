{
 "cells": [
  {
   "cell_type": "code",
   "execution_count": 1,
   "metadata": {},
   "outputs": [],
   "source": [
    "import nltk"
   ]
  },
  {
   "cell_type": "code",
   "execution_count": 2,
   "metadata": {},
   "outputs": [],
   "source": [
    "positiveReviewsFileName =  'C:/Users/Sheik/Documents/DataSets/rt-polaritydata/rt-polaritydata/rt-polarity.pos'\n",
    "with open(positiveReviewsFileName,'r') as f:     positiveReviews = f.readlines()\n",
    "    \n",
    "negativeReviewsFileName =  'C:/Users/Sheik/Documents/DataSets/rt-polaritydata/rt-polaritydata/rt-polarity.neg'\n",
    "with open(negativeReviewsFileName,'r') as f:     negativeReviews = f.readlines()"
   ]
  },
  {
   "cell_type": "markdown",
   "metadata": {},
   "source": [
    "# Split data"
   ]
  },
  {
   "cell_type": "code",
   "execution_count": 4,
   "metadata": {},
   "outputs": [],
   "source": [
    "testTrainingSplitIndex = 2500\n",
    "\n",
    "testNegativeReviews = negativeReviews[testTrainingSplitIndex+1:]\n",
    "testPositiveReviews = positiveReviews[testTrainingSplitIndex+1:]\n",
    "\n",
    "trainingNegativeReviews = negativeReviews[:testTrainingSplitIndex]\n",
    "trainingPositiveReviews = positiveReviews[:testTrainingSplitIndex]"
   ]
  },
  {
   "cell_type": "code",
   "execution_count": 6,
   "metadata": {},
   "outputs": [
    {
     "data": {
      "text/plain": [
       "2830"
      ]
     },
     "execution_count": 6,
     "metadata": {},
     "output_type": "execute_result"
    }
   ],
   "source": [
    "len(testNegativeReviews)"
   ]
  },
  {
   "cell_type": "code",
   "execution_count": 7,
   "metadata": {},
   "outputs": [
    {
     "data": {
      "text/plain": [
       "2500"
      ]
     },
     "execution_count": 7,
     "metadata": {},
     "output_type": "execute_result"
    }
   ],
   "source": [
    "len(trainingPositiveReviews)"
   ]
  },
  {
   "cell_type": "markdown",
   "metadata": {},
   "source": [
    "# GetReviewSentiments"
   ]
  },
  {
   "cell_type": "code",
   "execution_count": 8,
   "metadata": {},
   "outputs": [],
   "source": [
    "def getTestReviewSentiments(naiveBayesSentimentCalculator):\n",
    "  testNegResults = [naiveBayesSentimentCalculator(review) for review in testNegativeReviews]\n",
    "  testPosResults = [naiveBayesSentimentCalculator(review) for review in testPositiveReviews]\n",
    "  labelToNum = {'positive':1,'negative':-1}\n",
    "  numericNegResults = [labelToNum[x] for x in testNegResults]\n",
    "  numericPosResults = [labelToNum[x] for x in testPosResults]\n",
    "  return {'results-on-positive':numericPosResults, 'results-on-negative':numericNegResults}"
   ]
  },
  {
   "cell_type": "code",
   "execution_count": 9,
   "metadata": {},
   "outputs": [],
   "source": [
    "def getTrainingData():\n",
    "  negTaggedTrainingReviewList = [{'review':oneReview.split(),'label':'negative'} for oneReview in trainingNegativeReviews] \n",
    "  posTaggedTrainingReviewList = [{'review':oneReview.split(),'label':'positive'} for oneReview in trainingPositiveReviews] \n",
    "  fullTaggedTrainingData = [item for sublist in [negTaggedTrainingReviewList,posTaggedTrainingReviewList] for item in sublist]\n",
    "  trainingData = [(review['review'],review['label']) for review in fullTaggedTrainingData]\n",
    "  return trainingData\n"
   ]
  },
  {
   "cell_type": "code",
   "execution_count": 11,
   "metadata": {},
   "outputs": [],
   "source": [
    "def getVocabulary():\n",
    "  positiveWordList = [word for line in trainingPositiveReviews for word in line.split()]\n",
    "  negativeWordList = [word for line in trainingNegativeReviews for word in line.split()]\n",
    "  allWordList = [item for sublist in [positiveWordList,negativeWordList] for item in sublist]\n",
    "  allWordSet = list(set(allWordList))\n",
    "  vocabulary = allWordSet\n",
    "  return vocabulary"
   ]
  },
  {
   "cell_type": "markdown",
   "metadata": {},
   "source": [
    "# Extract Features from Review"
   ]
  },
  {
   "cell_type": "code",
   "execution_count": 15,
   "metadata": {},
   "outputs": [],
   "source": [
    "def extract_features(review):\n",
    "  review_words=set(review)\n",
    "  features={}\n",
    "  for word in vocabulary:\n",
    "      features[word]=(word in review_words)\n",
    "  return features"
   ]
  },
  {
   "cell_type": "markdown",
   "metadata": {},
   "source": [
    "# Train Naive Bayes Classifier"
   ]
  },
  {
   "cell_type": "code",
   "execution_count": 20,
   "metadata": {},
   "outputs": [],
   "source": [
    "def getTrainedNaiveBayesClassifier(extract_features, trainingData):\n",
    "  trainingFeatures=nltk.classify.apply_features(extract_features, trainingData)\n",
    "  trainedNBClassifier=nltk.NaiveBayesClassifier.train(trainingFeatures)\n",
    "  return trainedNBClassifier"
   ]
  },
  {
   "cell_type": "code",
   "execution_count": 21,
   "metadata": {},
   "outputs": [],
   "source": [
    "vocabulary = getVocabulary()\n",
    "trainingData = getTrainingData()\n",
    "trainedNBClassifier = getTrainedNaiveBayesClassifier(extract_features,trainingData)"
   ]
  },
  {
   "cell_type": "code",
   "execution_count": 22,
   "metadata": {},
   "outputs": [
    {
     "data": {
      "text/plain": [
       "<nltk.classify.naivebayes.NaiveBayesClassifier at 0x24854227240>"
      ]
     },
     "execution_count": 22,
     "metadata": {},
     "output_type": "execute_result"
    }
   ],
   "source": [
    "trainedNBClassifier"
   ]
  },
  {
   "cell_type": "code",
   "execution_count": 24,
   "metadata": {},
   "outputs": [],
   "source": [
    "def naiveBayesSentimentCalculator(review):\n",
    "  problemInstance = review.split()\n",
    "  problemFeatures = extract_features(problemInstance)\n",
    "  return trainedNBClassifier.classify(problemFeatures)"
   ]
  },
  {
   "cell_type": "markdown",
   "metadata": {},
   "source": [
    "# Test Few Reviews and Classify Test dataset"
   ]
  },
  {
   "cell_type": "code",
   "execution_count": 26,
   "metadata": {},
   "outputs": [
    {
     "data": {
      "text/plain": [
       "'positive'"
      ]
     },
     "execution_count": 26,
     "metadata": {},
     "output_type": "execute_result"
    }
   ],
   "source": [
    "naiveBayesSentimentCalculator(\"What an awesome movie\")"
   ]
  },
  {
   "cell_type": "code",
   "execution_count": 29,
   "metadata": {},
   "outputs": [],
   "source": [
    "def runDiagnostics(reviewResult):\n",
    "  positiveReviewsResult = reviewResult['results-on-positive']\n",
    "  negativeReviewsResult = reviewResult['results-on-negative']\n",
    "  numTruePositive = sum(x > 0 for x in positiveReviewsResult)\n",
    "  numTrueNegative = sum(x < 0 for x in negativeReviewsResult)\n",
    "  pctTruePositive = float(numTruePositive)/len(positiveReviewsResult)\n",
    "  pctTrueNegative = float(numTrueNegative)/len(negativeReviewsResult)  \n",
    "  totalAccurate = numTruePositive + numTrueNegative\n",
    "  total = len(positiveReviewsResult) + len(negativeReviewsResult)\n",
    "  print (\"Accuracy on positive reviews = \" +\"%.2f\" % (pctTruePositive*100) + \"%\")\n",
    "  print (\"Accurance on negative reviews = \" +\"%.2f\" % (pctTrueNegative*100) + \"%\")\n",
    "  print (\"Overall accuracy = \" + \"%.2f\" % (totalAccurate*100/total) + \"%\")"
   ]
  },
  {
   "cell_type": "code",
   "execution_count": 30,
   "metadata": {},
   "outputs": [
    {
     "name": "stdout",
     "output_type": "stream",
     "text": [
      "Accuracy on positive reviews = 73.39%\n",
      "Accurance on negative reviews = 77.07%\n",
      "Overall accuracy = 75.23%\n"
     ]
    }
   ],
   "source": [
    "runDiagnostics(getTestReviewSentiments(naiveBayesSentimentCalculator))"
   ]
  }
 ],
 "metadata": {
  "kernelspec": {
   "display_name": "Python 3",
   "language": "python",
   "name": "python3"
  },
  "language_info": {
   "codemirror_mode": {
    "name": "ipython",
    "version": 3
   },
   "file_extension": ".py",
   "mimetype": "text/x-python",
   "name": "python",
   "nbconvert_exporter": "python",
   "pygments_lexer": "ipython3",
   "version": "3.7.0"
  }
 },
 "nbformat": 4,
 "nbformat_minor": 2
}
